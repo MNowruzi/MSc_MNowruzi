{
 "cells": [
  {
   "cell_type": "code",
   "execution_count": 1,
   "id": "10bda995-f6fc-493c-b9ea-1448da65b58f",
   "metadata": {
    "tags": []
   },
   "outputs": [],
   "source": [
    "import numpy as np\n",
    "\n",
    "# Read the data\n",
    "with open('DATA.txt', 'r') as file:\n",
    "    lines = file.readlines()\n",
    "\n",
    "# Replace NaN with zero and save to a new file\n",
    "new_lines = []\n",
    "for line in lines:\n",
    "    new_line = line.replace('NaN', '0')\n",
    "    new_lines.append(new_line)\n",
    "\n",
    "with open('DATA_cleaned.txt', 'w') as file:\n",
    "    file.writelines(new_lines)"
   ]
  },
  {
   "cell_type": "code",
   "execution_count": null,
   "id": "e1a56e9b-95ea-4f79-ba71-a7f9c7211227",
   "metadata": {
    "tags": []
   },
   "outputs": [],
   "source": [
    "import numpy as np\n",
    "import matplotlib.pyplot as plt\n",
    "import sys\n",
    "\n",
    "# Load the cleaned data\n",
    "data = np.genfromtxt('DATA_cleaned.txt', delimiter=None, encoding=None, invalid_raise=False)\n",
    "\n",
    "# Extract columns\n",
    "x = data[:, 0]\n",
    "z = data[:, 1]\n",
    "u = data[:, 2]\n",
    "w = data[:, 3]\n",
    "\n",
    "\n",
    "# Calculate velocity magnitude\n",
    "velocity_magnitude1 = np.sqrt(u**2 + w**2)\n",
    "\n",
    "# Create the figure and axes\n",
    "fig, ax = plt.subplots()\n",
    "\n",
    "# Define a grid for contour plotting\n",
    "x_grid, z_grid = np.split(x, 104), np.split(z, 104)\n",
    "\n",
    "# Define custom colormap with white for zero\n",
    "#cmap = plt.cm.get_cmap('viridis')\n",
    "#cmap.set_under('white')\n",
    "\n",
    "# Interpolate data onto the grid\n",
    "u_interp = np.split(u, 104)\n",
    "w_interp = np.split(w, 104)\n",
    "velocity_magnitude = np.split(velocity_magnitude1, 104)\n",
    "\n",
    "# Create the contour plot\n",
    "contour = ax.contourf(x_grid, z_grid, velocity_magnitude)\n",
    "\n",
    "# Set color for zero velocity magnitude to white\n",
    "contour.levels[0] = 0\n",
    "contour.cmap.set_under('white')\n",
    "\n",
    "# Add colorbar\n",
    "plt.colorbar(contour, ax=ax, label='Velocity Magnitude')\n",
    "\n",
    "# Set labels and title\n",
    "ax.set_xlabel('X Coordinate')\n",
    "ax.set_ylabel('Z Coordinate')\n",
    "ax.set_title('Velocity Magnitude Contour Plot')\n",
    "\n",
    "\n",
    "#ax.quiver(x_grid, z_grid, u, w, color=\"white\", angles='xy',\n",
    "    #      scale_units='xy', scale=10, width=.001)\n",
    "\n",
    "\n",
    "# Show the plot\n",
    "plt.show()"
   ]
  },
  {
   "cell_type": "code",
   "execution_count": 15,
   "id": "e322caaf-2419-4eb8-aa50-6237b06c1359",
   "metadata": {
    "tags": []
   },
   "outputs": [
    {
     "name": "stdout",
     "output_type": "stream",
     "text": [
      "(array([125, 126, 127, 128, 129, 130, 131, 132, 133, 134, 135, 136, 137,\n",
      "       138, 139, 140, 141, 142, 143, 144, 145, 146, 147, 148, 149, 150,\n",
      "       151, 152, 153, 154, 155, 156, 157, 158, 159, 160, 161, 162, 163,\n",
      "       164, 165, 166, 167, 168, 169, 170, 171, 172, 173, 174, 175, 176,\n",
      "       177, 178, 179, 180, 181, 182, 183, 184, 185, 186, 187, 188, 189,\n",
      "       190, 191, 192, 193, 194, 195, 196, 197, 198, 199, 200, 201, 202,\n",
      "       203, 204, 205, 206, 207, 208, 209, 210, 211, 212, 213, 214, 215,\n",
      "       216, 217, 218, 219, 220, 221, 222, 223, 224, 225, 226, 227, 228,\n",
      "       229, 230, 231, 232, 233, 234, 235, 236, 237, 238, 239, 240, 241,\n",
      "       242, 243, 244, 245, 246, 247, 248, 249]),)\n"
     ]
    },
    {
     "data": {
      "text/plain": [
       "104.0"
      ]
     },
     "execution_count": 15,
     "metadata": {},
     "output_type": "execute_result"
    }
   ],
   "source": [
    "np.set_printoptions(threshold=sys.maxsize)\n",
    "np.set_printoptions(suppress=True)\n",
    "a = np.where(z == 9.96250427)\n",
    "\n",
    "print(a)\n",
    "len(z)/125"
   ]
  },
  {
   "cell_type": "code",
   "execution_count": 54,
   "id": "4b429369-1b82-43ec-89cb-3b1280e237f3",
   "metadata": {
    "tags": []
   },
   "outputs": [
    {
     "data": {
      "text/plain": [
       "(104, 125)"
      ]
     },
     "execution_count": 54,
     "metadata": {},
     "output_type": "execute_result"
    }
   ],
   "source": [
    "np.shape(x_grid)\n"
   ]
  },
  {
   "cell_type": "code",
   "execution_count": 52,
   "id": "1ef55652-2e4c-4757-a94e-cd009f098fa3",
   "metadata": {},
   "outputs": [
    {
     "data": {
      "text/plain": [
       "(104, 125)"
      ]
     },
     "execution_count": 52,
     "metadata": {},
     "output_type": "execute_result"
    }
   ],
   "source": [
    "d = np.split(x, 104)\n",
    "np.shape(d)"
   ]
  },
  {
   "cell_type": "code",
   "execution_count": 46,
   "id": "09a42cd4-d726-4772-b6f1-2e8a6a1416c4",
   "metadata": {
    "tags": []
   },
   "outputs": [
    {
     "data": {
      "text/plain": [
       "[1, 2, 3]"
      ]
     },
     "execution_count": 46,
     "metadata": {},
     "output_type": "execute_result"
    }
   ],
   "source": [
    "[1, 2, 3]"
   ]
  },
  {
   "cell_type": "code",
   "execution_count": null,
   "id": "c488efbe-9548-4d89-ad65-24b65895823f",
   "metadata": {},
   "outputs": [],
   "source": []
  }
 ],
 "metadata": {
  "kernelspec": {
   "display_name": "Python 3 (ipykernel)",
   "language": "python",
   "name": "python3"
  },
  "language_info": {
   "codemirror_mode": {
    "name": "ipython",
    "version": 3
   },
   "file_extension": ".py",
   "mimetype": "text/x-python",
   "name": "python",
   "nbconvert_exporter": "python",
   "pygments_lexer": "ipython3",
   "version": "3.11.5"
  }
 },
 "nbformat": 4,
 "nbformat_minor": 5
}
